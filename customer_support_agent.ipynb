{
  "nbformat": 4,
  "nbformat_minor": 0,
  "metadata": {
    "colab": {
      "provenance": [],
      "authorship_tag": "ABX9TyOca6t3dQO7xHFL6abPlDXk",
      "include_colab_link": true
    },
    "kernelspec": {
      "name": "python3",
      "display_name": "Python 3"
    },
    "language_info": {
      "name": "python"
    }
  },
  "cells": [
    {
      "cell_type": "markdown",
      "metadata": {
        "id": "view-in-github",
        "colab_type": "text"
      },
      "source": [
        "<a href=\"https://colab.research.google.com/github/nimeth02/customer_support_agent/blob/main/customer_support_agent.ipynb\" target=\"_parent\"><img src=\"https://colab.research.google.com/assets/colab-badge.svg\" alt=\"Open In Colab\"/></a>"
      ]
    },
    {
      "cell_type": "code",
      "execution_count": null,
      "metadata": {
        "colab": {
          "base_uri": "https://localhost:8080/"
        },
        "id": "BxcFaj1Ul6S4",
        "outputId": "0d78aea2-8b3b-4fae-ada0-39c30937ed85"
      },
      "outputs": [
        {
          "output_type": "stream",
          "name": "stdout",
          "text": [
            "Requirement already satisfied: langchain in /usr/local/lib/python3.11/dist-packages (0.3.23)\n",
            "Requirement already satisfied: langchain_core in /usr/local/lib/python3.11/dist-packages (0.3.51)\n",
            "Collecting langchain_groq\n",
            "  Downloading langchain_groq-0.3.2-py3-none-any.whl.metadata (2.6 kB)\n",
            "Collecting langchain_community\n",
            "  Downloading langchain_community-0.3.21-py3-none-any.whl.metadata (2.4 kB)\n",
            "Collecting langgraph\n",
            "  Downloading langgraph-0.3.30-py3-none-any.whl.metadata (7.7 kB)\n",
            "Requirement already satisfied: langchain-text-splitters<1.0.0,>=0.3.8 in /usr/local/lib/python3.11/dist-packages (from langchain) (0.3.8)\n",
            "Requirement already satisfied: langsmith<0.4,>=0.1.17 in /usr/local/lib/python3.11/dist-packages (from langchain) (0.3.28)\n",
            "Requirement already satisfied: pydantic<3.0.0,>=2.7.4 in /usr/local/lib/python3.11/dist-packages (from langchain) (2.11.3)\n",
            "Requirement already satisfied: SQLAlchemy<3,>=1.4 in /usr/local/lib/python3.11/dist-packages (from langchain) (2.0.40)\n",
            "Requirement already satisfied: requests<3,>=2 in /usr/local/lib/python3.11/dist-packages (from langchain) (2.32.3)\n",
            "Requirement already satisfied: PyYAML>=5.3 in /usr/local/lib/python3.11/dist-packages (from langchain) (6.0.2)\n",
            "Requirement already satisfied: tenacity!=8.4.0,<10.0.0,>=8.1.0 in /usr/local/lib/python3.11/dist-packages (from langchain_core) (9.1.2)\n",
            "Requirement already satisfied: jsonpatch<2.0,>=1.33 in /usr/local/lib/python3.11/dist-packages (from langchain_core) (1.33)\n",
            "Requirement already satisfied: packaging<25,>=23.2 in /usr/local/lib/python3.11/dist-packages (from langchain_core) (24.2)\n",
            "Requirement already satisfied: typing-extensions>=4.7 in /usr/local/lib/python3.11/dist-packages (from langchain_core) (4.13.1)\n",
            "Collecting groq<1,>=0.4.1 (from langchain_groq)\n",
            "  Downloading groq-0.22.0-py3-none-any.whl.metadata (15 kB)\n",
            "Requirement already satisfied: aiohttp<4.0.0,>=3.8.3 in /usr/local/lib/python3.11/dist-packages (from langchain_community) (3.11.15)\n",
            "Collecting dataclasses-json<0.7,>=0.5.7 (from langchain_community)\n",
            "  Downloading dataclasses_json-0.6.7-py3-none-any.whl.metadata (25 kB)\n",
            "Collecting pydantic-settings<3.0.0,>=2.4.0 (from langchain_community)\n",
            "  Downloading pydantic_settings-2.8.1-py3-none-any.whl.metadata (3.5 kB)\n",
            "Collecting httpx-sse<1.0.0,>=0.4.0 (from langchain_community)\n",
            "  Downloading httpx_sse-0.4.0-py3-none-any.whl.metadata (9.0 kB)\n",
            "Requirement already satisfied: numpy<3,>=1.26.2 in /usr/local/lib/python3.11/dist-packages (from langchain_community) (2.0.2)\n",
            "Collecting langgraph-checkpoint<3.0.0,>=2.0.10 (from langgraph)\n",
            "  Downloading langgraph_checkpoint-2.0.24-py3-none-any.whl.metadata (4.6 kB)\n",
            "Collecting langgraph-prebuilt<0.2,>=0.1.1 (from langgraph)\n",
            "  Downloading langgraph_prebuilt-0.1.8-py3-none-any.whl.metadata (5.0 kB)\n",
            "Collecting langgraph-sdk<0.2.0,>=0.1.42 (from langgraph)\n",
            "  Downloading langgraph_sdk-0.1.61-py3-none-any.whl.metadata (1.8 kB)\n",
            "Collecting xxhash<4.0.0,>=3.5.0 (from langgraph)\n",
            "  Downloading xxhash-3.5.0-cp311-cp311-manylinux_2_17_x86_64.manylinux2014_x86_64.whl.metadata (12 kB)\n",
            "Requirement already satisfied: aiohappyeyeballs>=2.3.0 in /usr/local/lib/python3.11/dist-packages (from aiohttp<4.0.0,>=3.8.3->langchain_community) (2.6.1)\n",
            "Requirement already satisfied: aiosignal>=1.1.2 in /usr/local/lib/python3.11/dist-packages (from aiohttp<4.0.0,>=3.8.3->langchain_community) (1.3.2)\n",
            "Requirement already satisfied: attrs>=17.3.0 in /usr/local/lib/python3.11/dist-packages (from aiohttp<4.0.0,>=3.8.3->langchain_community) (25.3.0)\n",
            "Requirement already satisfied: frozenlist>=1.1.1 in /usr/local/lib/python3.11/dist-packages (from aiohttp<4.0.0,>=3.8.3->langchain_community) (1.5.0)\n",
            "Requirement already satisfied: multidict<7.0,>=4.5 in /usr/local/lib/python3.11/dist-packages (from aiohttp<4.0.0,>=3.8.3->langchain_community) (6.4.2)\n",
            "Requirement already satisfied: propcache>=0.2.0 in /usr/local/lib/python3.11/dist-packages (from aiohttp<4.0.0,>=3.8.3->langchain_community) (0.3.1)\n",
            "Requirement already satisfied: yarl<2.0,>=1.17.0 in /usr/local/lib/python3.11/dist-packages (from aiohttp<4.0.0,>=3.8.3->langchain_community) (1.19.0)\n",
            "Collecting marshmallow<4.0.0,>=3.18.0 (from dataclasses-json<0.7,>=0.5.7->langchain_community)\n",
            "  Downloading marshmallow-3.26.1-py3-none-any.whl.metadata (7.3 kB)\n",
            "Collecting typing-inspect<1,>=0.4.0 (from dataclasses-json<0.7,>=0.5.7->langchain_community)\n",
            "  Downloading typing_inspect-0.9.0-py3-none-any.whl.metadata (1.5 kB)\n",
            "Requirement already satisfied: anyio<5,>=3.5.0 in /usr/local/lib/python3.11/dist-packages (from groq<1,>=0.4.1->langchain_groq) (4.9.0)\n",
            "Requirement already satisfied: distro<2,>=1.7.0 in /usr/local/lib/python3.11/dist-packages (from groq<1,>=0.4.1->langchain_groq) (1.9.0)\n",
            "Requirement already satisfied: httpx<1,>=0.23.0 in /usr/local/lib/python3.11/dist-packages (from groq<1,>=0.4.1->langchain_groq) (0.28.1)\n",
            "Requirement already satisfied: sniffio in /usr/local/lib/python3.11/dist-packages (from groq<1,>=0.4.1->langchain_groq) (1.3.1)\n",
            "Requirement already satisfied: jsonpointer>=1.9 in /usr/local/lib/python3.11/dist-packages (from jsonpatch<2.0,>=1.33->langchain_core) (3.0.0)\n",
            "Collecting ormsgpack<2.0.0,>=1.8.0 (from langgraph-checkpoint<3.0.0,>=2.0.10->langgraph)\n",
            "  Downloading ormsgpack-1.9.1-cp311-cp311-manylinux_2_17_x86_64.manylinux2014_x86_64.whl.metadata (43 kB)\n",
            "\u001b[2K     \u001b[90m━━━━━━━━━━━━━━━━━━━━━━━━━━━━━━━━━━━━━━━━\u001b[0m \u001b[32m43.5/43.5 kB\u001b[0m \u001b[31m1.2 MB/s\u001b[0m eta \u001b[36m0:00:00\u001b[0m\n",
            "\u001b[?25hRequirement already satisfied: orjson>=3.10.1 in /usr/local/lib/python3.11/dist-packages (from langgraph-sdk<0.2.0,>=0.1.42->langgraph) (3.10.16)\n",
            "Requirement already satisfied: requests-toolbelt<2.0.0,>=1.0.0 in /usr/local/lib/python3.11/dist-packages (from langsmith<0.4,>=0.1.17->langchain) (1.0.0)\n",
            "Requirement already satisfied: zstandard<0.24.0,>=0.23.0 in /usr/local/lib/python3.11/dist-packages (from langsmith<0.4,>=0.1.17->langchain) (0.23.0)\n",
            "Requirement already satisfied: annotated-types>=0.6.0 in /usr/local/lib/python3.11/dist-packages (from pydantic<3.0.0,>=2.7.4->langchain) (0.7.0)\n",
            "Requirement already satisfied: pydantic-core==2.33.1 in /usr/local/lib/python3.11/dist-packages (from pydantic<3.0.0,>=2.7.4->langchain) (2.33.1)\n",
            "Requirement already satisfied: typing-inspection>=0.4.0 in /usr/local/lib/python3.11/dist-packages (from pydantic<3.0.0,>=2.7.4->langchain) (0.4.0)\n",
            "Collecting python-dotenv>=0.21.0 (from pydantic-settings<3.0.0,>=2.4.0->langchain_community)\n",
            "  Downloading python_dotenv-1.1.0-py3-none-any.whl.metadata (24 kB)\n",
            "Requirement already satisfied: charset-normalizer<4,>=2 in /usr/local/lib/python3.11/dist-packages (from requests<3,>=2->langchain) (3.4.1)\n",
            "Requirement already satisfied: idna<4,>=2.5 in /usr/local/lib/python3.11/dist-packages (from requests<3,>=2->langchain) (3.10)\n",
            "Requirement already satisfied: urllib3<3,>=1.21.1 in /usr/local/lib/python3.11/dist-packages (from requests<3,>=2->langchain) (2.3.0)\n",
            "Requirement already satisfied: certifi>=2017.4.17 in /usr/local/lib/python3.11/dist-packages (from requests<3,>=2->langchain) (2025.1.31)\n",
            "Requirement already satisfied: greenlet>=1 in /usr/local/lib/python3.11/dist-packages (from SQLAlchemy<3,>=1.4->langchain) (3.1.1)\n",
            "Requirement already satisfied: httpcore==1.* in /usr/local/lib/python3.11/dist-packages (from httpx<1,>=0.23.0->groq<1,>=0.4.1->langchain_groq) (1.0.7)\n",
            "Requirement already satisfied: h11<0.15,>=0.13 in /usr/local/lib/python3.11/dist-packages (from httpcore==1.*->httpx<1,>=0.23.0->groq<1,>=0.4.1->langchain_groq) (0.14.0)\n",
            "Collecting mypy-extensions>=0.3.0 (from typing-inspect<1,>=0.4.0->dataclasses-json<0.7,>=0.5.7->langchain_community)\n",
            "  Downloading mypy_extensions-1.0.0-py3-none-any.whl.metadata (1.1 kB)\n",
            "Downloading langchain_groq-0.3.2-py3-none-any.whl (15 kB)\n",
            "Downloading langchain_community-0.3.21-py3-none-any.whl (2.5 MB)\n",
            "\u001b[2K   \u001b[90m━━━━━━━━━━━━━━━━━━━━━━━━━━━━━━━━━━━━━━━━\u001b[0m \u001b[32m2.5/2.5 MB\u001b[0m \u001b[31m19.9 MB/s\u001b[0m eta \u001b[36m0:00:00\u001b[0m\n",
            "\u001b[?25hDownloading langgraph-0.3.30-py3-none-any.whl (144 kB)\n",
            "\u001b[2K   \u001b[90m━━━━━━━━━━━━━━━━━━━━━━━━━━━━━━━━━━━━━━━━\u001b[0m \u001b[32m145.0/145.0 kB\u001b[0m \u001b[31m9.0 MB/s\u001b[0m eta \u001b[36m0:00:00\u001b[0m\n",
            "\u001b[?25hDownloading dataclasses_json-0.6.7-py3-none-any.whl (28 kB)\n",
            "Downloading groq-0.22.0-py3-none-any.whl (126 kB)\n",
            "\u001b[2K   \u001b[90m━━━━━━━━━━━━━━━━━━━━━━━━━━━━━━━━━━━━━━━━\u001b[0m \u001b[32m126.7/126.7 kB\u001b[0m \u001b[31m7.6 MB/s\u001b[0m eta \u001b[36m0:00:00\u001b[0m\n",
            "\u001b[?25hDownloading httpx_sse-0.4.0-py3-none-any.whl (7.8 kB)\n",
            "Downloading langgraph_checkpoint-2.0.24-py3-none-any.whl (42 kB)\n",
            "\u001b[2K   \u001b[90m━━━━━━━━━━━━━━━━━━━━━━━━━━━━━━━━━━━━━━━━\u001b[0m \u001b[32m42.0/42.0 kB\u001b[0m \u001b[31m1.7 MB/s\u001b[0m eta \u001b[36m0:00:00\u001b[0m\n",
            "\u001b[?25hDownloading langgraph_prebuilt-0.1.8-py3-none-any.whl (25 kB)\n",
            "Downloading langgraph_sdk-0.1.61-py3-none-any.whl (47 kB)\n",
            "\u001b[2K   \u001b[90m━━━━━━━━━━━━━━━━━━━━━━━━━━━━━━━━━━━━━━━━\u001b[0m \u001b[32m47.2/47.2 kB\u001b[0m \u001b[31m3.0 MB/s\u001b[0m eta \u001b[36m0:00:00\u001b[0m\n",
            "\u001b[?25hDownloading pydantic_settings-2.8.1-py3-none-any.whl (30 kB)\n",
            "Downloading xxhash-3.5.0-cp311-cp311-manylinux_2_17_x86_64.manylinux2014_x86_64.whl (194 kB)\n",
            "\u001b[2K   \u001b[90m━━━━━━━━━━━━━━━━━━━━━━━━━━━━━━━━━━━━━━━━\u001b[0m \u001b[32m194.8/194.8 kB\u001b[0m \u001b[31m7.1 MB/s\u001b[0m eta \u001b[36m0:00:00\u001b[0m\n",
            "\u001b[?25hDownloading marshmallow-3.26.1-py3-none-any.whl (50 kB)\n",
            "\u001b[2K   \u001b[90m━━━━━━━━━━━━━━━━━━━━━━━━━━━━━━━━━━━━━━━━\u001b[0m \u001b[32m50.9/50.9 kB\u001b[0m \u001b[31m2.0 MB/s\u001b[0m eta \u001b[36m0:00:00\u001b[0m\n",
            "\u001b[?25hDownloading ormsgpack-1.9.1-cp311-cp311-manylinux_2_17_x86_64.manylinux2014_x86_64.whl (223 kB)\n",
            "\u001b[2K   \u001b[90m━━━━━━━━━━━━━━━━━━━━━━━━━━━━━━━━━━━━━━━━\u001b[0m \u001b[32m223.6/223.6 kB\u001b[0m \u001b[31m8.6 MB/s\u001b[0m eta \u001b[36m0:00:00\u001b[0m\n",
            "\u001b[?25hDownloading python_dotenv-1.1.0-py3-none-any.whl (20 kB)\n",
            "Downloading typing_inspect-0.9.0-py3-none-any.whl (8.8 kB)\n",
            "Downloading mypy_extensions-1.0.0-py3-none-any.whl (4.7 kB)\n",
            "Installing collected packages: xxhash, python-dotenv, ormsgpack, mypy-extensions, marshmallow, httpx-sse, typing-inspect, pydantic-settings, langgraph-sdk, groq, dataclasses-json, langgraph-checkpoint, langchain_groq, langgraph-prebuilt, langgraph, langchain_community\n",
            "Successfully installed dataclasses-json-0.6.7 groq-0.22.0 httpx-sse-0.4.0 langchain_community-0.3.21 langchain_groq-0.3.2 langgraph-0.3.30 langgraph-checkpoint-2.0.24 langgraph-prebuilt-0.1.8 langgraph-sdk-0.1.61 marshmallow-3.26.1 mypy-extensions-1.0.0 ormsgpack-1.9.1 pydantic-settings-2.8.1 python-dotenv-1.1.0 typing-inspect-0.9.0 xxhash-3.5.0\n"
          ]
        }
      ],
      "source": [
        "!pip install langchain langchain_core langchain_groq langchain_community langgraph\n"
      ]
    },
    {
      "cell_type": "code",
      "source": [
        "from typing import TypedDict, Dict\n",
        "from langgraph.graph import StateGraph, END\n",
        "from langchain_core.prompts import ChatPromptTemplate\n",
        "from langchain_core.runnables.graph import MermaidDrawMethod\n",
        "from IPython.display import display , Image"
      ],
      "metadata": {
        "id": "Voy_y0u8l-th"
      },
      "execution_count": null,
      "outputs": []
    },
    {
      "cell_type": "code",
      "source": [
        "class State(TypedDict):\n",
        "        query: str\n",
        "        category: str\n",
        "        sentiment: str\n",
        "        response: str"
      ],
      "metadata": {
        "id": "7iIdVFdfmiDv"
      },
      "execution_count": null,
      "outputs": []
    },
    {
      "cell_type": "code",
      "source": [
        "from google.colab import userdata\n",
        "\n",
        "# Get the API key\n",
        "api_key = userdata.get('GROQ_API_KEY')"
      ],
      "metadata": {
        "id": "Ez8JDc2RsSwH"
      },
      "execution_count": null,
      "outputs": []
    },
    {
      "cell_type": "code",
      "source": [
        "from langchain_groq import ChatGroq\n",
        "\n",
        "llm = ChatGroq(\n",
        "            temperature=0,\n",
        "            groq_api_key = api_key,\n",
        "            model_name = \"llama-3.3-70b-versatile\"\n",
        "        )\n",
        "result = llm.invoke(\"What is china town\")\n",
        "result.content"
      ],
      "metadata": {
        "colab": {
          "base_uri": "https://localhost:8080/",
          "height": 123
        },
        "id": "MPk7xNQwqeyb",
        "outputId": "ea33ef3d-0f4f-4e98-a6bc-abf43c9743c7"
      },
      "execution_count": null,
      "outputs": [
        {
          "output_type": "execute_result",
          "data": {
            "text/plain": [
              "\"Chinatown is a term used to describe an ethnic enclave of Chinese people living outside of China, typically in a urban area. Chinatowns are usually characterized by a high concentration of Chinese restaurants, shops, cultural institutions, and residents. They often serve as a hub for the local Chinese community, providing a sense of cultural identity and connection to their heritage.\\n\\nChinatowns can be found in many cities around the world, including:\\n\\n1. **San Francisco, USA**: One of the largest and oldest Chinatowns in the United States, established in 1848.\\n2. **New York City, USA**: Manhattan's Chinatown is one of the largest in the United States, with a population of over 100,000 Chinese Americans.\\n3. **London, UK**: London's Chinatown is located in the West End and is one of the largest in Europe.\\n4. **Vancouver, Canada**: Vancouver's Chinatown is one of the largest in North America, with a rich history dating back to the late 19th century.\\n5. **Singapore**: Singapore has several Chinatowns, including the famous Chinatown in the Outram district.\\n6. **Kuala Lumpur, Malaysia**: Kuala Lumpur's Chinatown, also known as Petaling Street, is a popular tourist destination.\\n7. **Sydney, Australia**: Sydney's Chinatown is located in the Haymarket district and is one of the largest in Australia.\\n\\nChinatowns often feature:\\n\\n* **Chinese restaurants**: Serving a variety of Chinese cuisine, from Cantonese to Szechuan.\\n* **Cultural institutions**: Such as Chinese temples, museums, and cultural centers.\\n* **Traditional shops**: Selling Chinese goods, such as herbal medicine, tea, and traditional clothing.\\n* **Street markets**: Offering a range of goods, from fresh produce to souvenirs.\\n* **Lion dances and festivals**: Celebrating Chinese holidays, such as Chinese New Year and the Mid-Autumn Festival.\\n\\nChinatowns play an important role in preserving Chinese culture and traditions, while also promoting cultural exchange and understanding between Chinese and non-Chinese communities.\""
            ],
            "application/vnd.google.colaboratory.intrinsic+json": {
              "type": "string"
            }
          },
          "metadata": {},
          "execution_count": 5
        }
      ]
    },
    {
      "cell_type": "code",
      "source": [
        "# Define the nodes\n",
        "def categorize(state: State) -> State:\n",
        "    prompt = ChatPromptTemplate.from_template(\n",
        "        \"Categorize the following customer query into one of these categories: \"\n",
        "        \"Technical, Billing, General. Query: {query}\"\n",
        "    )\n",
        "    chain = prompt | llm\n",
        "    category = chain.invoke({\"query\": state[\"query\"]}).content\n",
        "    return {\"category\": category}\n",
        "\n",
        "def analyze_sentiment(state: State) -> State:\n",
        "    prompt = ChatPromptTemplate.from_template(\n",
        "        \"Analyze the sentiment of the following customer query. \"\n",
        "        \"Respond with either 'Positive', 'Neutral', or 'Negative'. Query: {query}\"\n",
        "    )\n",
        "    chain = prompt | llm\n",
        "    sentiment = chain.invoke({\"query\": state[\"query\"]}).content\n",
        "    return {\"sentiment\": sentiment}\n",
        "\n",
        "def handle_technical(state: State) -> State:\n",
        "    prompt = ChatPromptTemplate.from_template(\n",
        "        \"Provide a technical support response to the following query: {query}\"\n",
        "    )\n",
        "    chain = prompt | llm\n",
        "    response = chain.invoke({\"query\": state[\"query\"]}).content\n",
        "    return {\"response\": response}\n",
        "\n",
        "def handle_billing(state: State) -> State:\n",
        "    prompt = ChatPromptTemplate.from_template(\n",
        "        \"Provide a billing support response to the following query: {query}\"\n",
        "    )\n",
        "    chain = prompt | llm\n",
        "    response = chain.invoke({\"query\": state[\"query\"]}).content\n",
        "    return {\"response\": response}\n",
        "\n",
        "def handle_general(state: State) -> State:\n",
        "    prompt = ChatPromptTemplate.from_template(\n",
        "        \"Provide a general support response to the following query: {query}\"\n",
        "    )\n",
        "    chain = prompt | llm\n",
        "    response = chain.invoke({\"query\": state[\"query\"]}).content\n",
        "    return {\"response\": response}\n",
        "\n",
        "def escalate(state: State) -> State:\n",
        "    return {\"response\": \"This query has been escalated to a human agent due to its negative sentiment\"}\n",
        "\n",
        "def route_query(state: State) -> str:\n",
        "    if state[\"sentiment\"] == \"Negative\":\n",
        "        return \"escalate\"\n",
        "    elif state[\"category\"] == \"Technical\":\n",
        "        return \"handle_technical\"\n",
        "    elif state[\"category\"] == \"Billing\":\n",
        "        return \"handle_billing\"\n",
        "    else:\n",
        "        return \"handle_general\""
      ],
      "metadata": {
        "id": "DKMK1rJBrRgY"
      },
      "execution_count": null,
      "outputs": []
    },
    {
      "cell_type": "code",
      "source": [
        "workflow = StateGraph(State)\n",
        "\n",
        "# Add nodes\n",
        "workflow.add_node(\"categorize\", categorize)\n",
        "workflow.add_node(\"analyze_sentiment\", analyze_sentiment)\n",
        "workflow.add_node(\"handle_technical\", handle_technical)\n",
        "workflow.add_node(\"handle_billing\", handle_billing)\n",
        "workflow.add_node(\"handle_general\", handle_general)\n",
        "workflow.add_node(\"escalate\", escalate)\n",
        "\n",
        "# Add edges\n",
        "workflow.add_edge(\"categorize\", \"analyze_sentiment\")\n",
        "workflow.add_conditional_edges(\n",
        "    \"analyze_sentiment\",\n",
        "    route_query,\n",
        "    {\n",
        "        \"handle_technical\": \"handle_technical\",\n",
        "        \"handle_billing\": \"handle_billing\",\n",
        "        \"handle_general\": \"handle_general\",\n",
        "        \"escalate\": \"escalate\"\n",
        "    }\n",
        ")\n",
        "\n",
        "# Add edges to end\n",
        "workflow.add_edge(\"handle_technical\", END)\n",
        "workflow.add_edge(\"handle_billing\", END)\n",
        "workflow.add_edge(\"handle_general\", END)\n",
        "workflow.add_edge(\"escalate\", END)\n",
        "\n",
        "# Set entry point\n",
        "workflow.set_entry_point(\"categorize\")\n",
        "\n",
        "# Compile the workflow\n",
        "app = workflow.compile()"
      ],
      "metadata": {
        "id": "qDu0OvkC5fG9"
      },
      "execution_count": null,
      "outputs": []
    },
    {
      "cell_type": "code",
      "source": [
        "display(\n",
        "            Image(\n",
        "                app.get_graph().draw_mermaid_png(\n",
        "                    draw_method=MermaidDrawMethod.API\n",
        "               )\n",
        "            )\n",
        "        )"
      ],
      "metadata": {
        "colab": {
          "base_uri": "https://localhost:8080/",
          "height": 449
        },
        "id": "1hIWtJMA-KyF",
        "outputId": "fc928f73-9364-4d7c-ad4e-4c6705ab03a7"
      },
      "execution_count": null,
      "outputs": [
        {
          "output_type": "display_data",
          "data": {
            "image/png": "[encoded data removed]",
            "text/plain": [
              "<IPython.core.display.Image object>"
            ]
          },
          "metadata": {}
        }
      ]
    },
    {
      "cell_type": "code",
      "source": [
        "def run_customer_support(query: str)->Dict[str, str]:\n",
        "          results = app.invoke({\"query\": query})\n",
        "          return {\n",
        "              \"category\":results['category'],\n",
        "              \"sentiment\":results['sentiment'],\n",
        "              \"response\": results['response'],\n",
        "          }"
      ],
      "metadata": {
        "id": "Sse1s3OVITWM"
      },
      "execution_count": null,
      "outputs": []
    },
    {
      "cell_type": "code",
      "source": [
        "query = \"My internet connection is gone it's not working, Can you help me?\"\n",
        "result = run_customer_support(query)\n",
        "\n",
        "print(f\"Query: {query}\")\n",
        "print(f\"Category: {result['category']}\")\n",
        "print(f\"Sentiment: {result['sentiment']}\")\n",
        "print(f\"Response: {result['response']}\")\n",
        "print(\"\\n\")"
      ],
      "metadata": {
        "id": "DTpIQNjtJemS",
        "outputId": "ff9db909-1a0f-4cd3-fc44-a52e990f1706",
        "colab": {
          "base_uri": "https://localhost:8080/"
        }
      },
      "execution_count": null,
      "outputs": [
        {
          "output_type": "stream",
          "name": "stdout",
          "text": [
            "Query: My internet connection is gone it's not working, Can you help me?\n",
            "Category: The customer query can be categorized as: Technical. \n",
            "\n",
            "This is because the query is related to a technical issue with the customer's internet connection, and they are seeking assistance to resolve the problem.\n",
            "Sentiment: Negative.\n",
            "Response: I'm so sorry to hear that your internet connection is not working. I'd be happy to help you troubleshoot the issue. Can you please try a few things to help me narrow down the problem?\n",
            "\n",
            "1. **Restart your router**: Sometimes, a simple reboot can resolve the issue. Try unplugging the power cord from your router, waiting for 30 seconds, and then plugging it back in.\n",
            "2. **Check your cables**: Ensure that all cables are securely connected to your router, modem, and device (computer, laptop, etc.).\n",
            "3. **Check your internet service provider's status**: It's possible that there's an outage in your area. You can check your ISP's website or social media for any updates on outages or maintenance.\n",
            "\n",
            "If none of these steps resolve the issue, please provide me with more details about your setup, such as:\n",
            "\n",
            "* Your internet service provider\n",
            "* The type of router and modem you're using\n",
            "* The devices you're trying to connect to the internet\n",
            "* Any error messages you're seeing\n",
            "\n",
            "I'll do my best to help you troubleshoot the issue and get your internet connection up and running again.\n",
            "\n",
            "\n"
          ]
        }
      ]
    },
    {
      "cell_type": "code",
      "source": [],
      "metadata": {
        "id": "e1TbyhWeJfJM"
      },
      "execution_count": null,
      "outputs": []
    }
  ]
}